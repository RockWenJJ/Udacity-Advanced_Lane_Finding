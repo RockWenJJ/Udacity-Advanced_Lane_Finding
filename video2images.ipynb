{
 "cells": [
  {
   "cell_type": "code",
   "execution_count": 8,
   "metadata": {
    "collapsed": true
   },
   "outputs": [],
   "source": [
    "import cv2\n",
    "import os\n",
    "video_dir = \".\"\n",
    "video_name = \"project_video.mp4\"\n",
    "video = cv2.VideoCapture(os.path.join(video_dir, video_name))"
   ]
  },
  {
   "cell_type": "code",
   "execution_count": 9,
   "metadata": {
    "collapsed": true
   },
   "outputs": [],
   "source": [
    "fourcc = cv2.VideoWriter_fourcc(*'XVID')\n",
    "fps = video.get(cv2.CAP_PROP_FPS)\n",
    "size = (int(video.get(cv2.CAP_PROP_FRAME_WIDTH)), \n",
    "        int(video.get(cv2.CAP_PROP_FRAME_HEIGHT)))"
   ]
  },
  {
   "cell_type": "code",
   "execution_count": 5,
   "metadata": {},
   "outputs": [
    {
     "name": "stdout",
     "output_type": "stream",
     "text": [
      "test_video2images/project_video\n"
     ]
    }
   ],
   "source": [
    "output_dir = \"test_video2images/%s\"%video_name[:-4]\n",
    "print(output_dir)\n",
    "if not os.path.exists(output_dir):\n",
    "    os.makedirs(output_dir)"
   ]
  },
  {
   "cell_type": "code",
   "execution_count": 10,
   "metadata": {
    "collapsed": true
   },
   "outputs": [],
   "source": [
    "i = 0\n",
    "while(video.isOpened()):\n",
    "    ret, frame = video.read()\n",
    "    if ret==True:\n",
    "        cv2.imwrite(os.path.join(output_dir, '%05d.jpg'%i), frame)\n",
    "        if cv2.waitKey(1) & 0xFF == ord('q'):\n",
    "            break\n",
    "    else:\n",
    "        break\n",
    "    i = i+1\n",
    "video.release()\n",
    "cv2.destroyAllWindows()"
   ]
  },
  {
   "cell_type": "code",
   "execution_count": null,
   "metadata": {
    "collapsed": true
   },
   "outputs": [],
   "source": []
  }
 ],
 "metadata": {
  "kernelspec": {
   "display_name": "Python 3",
   "language": "python",
   "name": "python3"
  },
  "language_info": {
   "codemirror_mode": {
    "name": "ipython",
    "version": 3
   },
   "file_extension": ".py",
   "mimetype": "text/x-python",
   "name": "python",
   "nbconvert_exporter": "python",
   "pygments_lexer": "ipython3",
   "version": "3.6.8"
  }
 },
 "nbformat": 4,
 "nbformat_minor": 2
}
